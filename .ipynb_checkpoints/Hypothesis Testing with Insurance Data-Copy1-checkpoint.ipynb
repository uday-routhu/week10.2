{
 "cells": [
  {
   "cell_type": "markdown",
   "id": "e51503cc",
   "metadata": {},
   "source": [
    "#### Author: Uday Routhu"
   ]
  },
  {
   "cell_type": "markdown",
   "id": "6aa798b5",
   "metadata": {},
   "source": [
    "#### Assignment: Hypothesis Testing with Insurance Data(Core)"
   ]
  },
  {
   "cell_type": "markdown",
   "id": "4ec33619",
   "metadata": {},
   "source": [
    "#### Imports"
   ]
  },
  {
   "cell_type": "code",
   "execution_count": 2,
   "id": "378c344c",
   "metadata": {},
   "outputs": [],
   "source": [
    "import pandas as pd\n",
    "import numpy as np\n",
    "import matplotlib.pyplot as plt\n",
    "import seaborn as sns\n",
    "from sklearn.preprocessing import StandardScaler\n",
    "from scipy import stats"
   ]
  },
  {
   "cell_type": "code",
   "execution_count": 3,
   "id": "c8212cce",
   "metadata": {},
   "outputs": [],
   "source": [
    "df = pd.read_csv('Data/insurance - insurance.csv')"
   ]
  },
  {
   "cell_type": "code",
   "execution_count": 4,
   "id": "4eae7d89",
   "metadata": {},
   "outputs": [
    {
     "name": "stdout",
     "output_type": "stream",
     "text": [
      "<class 'pandas.core.frame.DataFrame'>\n",
      "RangeIndex: 1338 entries, 0 to 1337\n",
      "Data columns (total 7 columns):\n",
      " #   Column    Non-Null Count  Dtype  \n",
      "---  ------    --------------  -----  \n",
      " 0   age       1338 non-null   int64  \n",
      " 1   sex       1338 non-null   object \n",
      " 2   bmi       1338 non-null   float64\n",
      " 3   children  1338 non-null   int64  \n",
      " 4   smoker    1338 non-null   object \n",
      " 5   region    1338 non-null   object \n",
      " 6   charges   1338 non-null   float64\n",
      "dtypes: float64(2), int64(2), object(3)\n",
      "memory usage: 73.3+ KB\n"
     ]
    }
   ],
   "source": [
    "df.info()"
   ]
  },
  {
   "cell_type": "code",
   "execution_count": 5,
   "id": "b498d8ce",
   "metadata": {},
   "outputs": [
    {
     "data": {
      "text/html": [
       "<div>\n",
       "<style scoped>\n",
       "    .dataframe tbody tr th:only-of-type {\n",
       "        vertical-align: middle;\n",
       "    }\n",
       "\n",
       "    .dataframe tbody tr th {\n",
       "        vertical-align: top;\n",
       "    }\n",
       "\n",
       "    .dataframe thead th {\n",
       "        text-align: right;\n",
       "    }\n",
       "</style>\n",
       "<table border=\"1\" class=\"dataframe\">\n",
       "  <thead>\n",
       "    <tr style=\"text-align: right;\">\n",
       "      <th></th>\n",
       "      <th>age</th>\n",
       "      <th>sex</th>\n",
       "      <th>bmi</th>\n",
       "      <th>children</th>\n",
       "      <th>smoker</th>\n",
       "      <th>region</th>\n",
       "      <th>charges</th>\n",
       "    </tr>\n",
       "  </thead>\n",
       "  <tbody>\n",
       "    <tr>\n",
       "      <th>0</th>\n",
       "      <td>19</td>\n",
       "      <td>female</td>\n",
       "      <td>27.900</td>\n",
       "      <td>0</td>\n",
       "      <td>yes</td>\n",
       "      <td>southwest</td>\n",
       "      <td>16884.92400</td>\n",
       "    </tr>\n",
       "    <tr>\n",
       "      <th>1</th>\n",
       "      <td>18</td>\n",
       "      <td>male</td>\n",
       "      <td>33.770</td>\n",
       "      <td>1</td>\n",
       "      <td>no</td>\n",
       "      <td>southeast</td>\n",
       "      <td>1725.55230</td>\n",
       "    </tr>\n",
       "    <tr>\n",
       "      <th>2</th>\n",
       "      <td>28</td>\n",
       "      <td>male</td>\n",
       "      <td>33.000</td>\n",
       "      <td>3</td>\n",
       "      <td>no</td>\n",
       "      <td>southeast</td>\n",
       "      <td>4449.46200</td>\n",
       "    </tr>\n",
       "    <tr>\n",
       "      <th>3</th>\n",
       "      <td>33</td>\n",
       "      <td>male</td>\n",
       "      <td>22.705</td>\n",
       "      <td>0</td>\n",
       "      <td>no</td>\n",
       "      <td>northwest</td>\n",
       "      <td>21984.47061</td>\n",
       "    </tr>\n",
       "    <tr>\n",
       "      <th>4</th>\n",
       "      <td>32</td>\n",
       "      <td>male</td>\n",
       "      <td>28.880</td>\n",
       "      <td>0</td>\n",
       "      <td>no</td>\n",
       "      <td>northwest</td>\n",
       "      <td>3866.85520</td>\n",
       "    </tr>\n",
       "  </tbody>\n",
       "</table>\n",
       "</div>"
      ],
      "text/plain": [
       "   age     sex     bmi  children smoker     region      charges\n",
       "0   19  female  27.900         0    yes  southwest  16884.92400\n",
       "1   18    male  33.770         1     no  southeast   1725.55230\n",
       "2   28    male  33.000         3     no  southeast   4449.46200\n",
       "3   33    male  22.705         0     no  northwest  21984.47061\n",
       "4   32    male  28.880         0     no  northwest   3866.85520"
      ]
     },
     "execution_count": 5,
     "metadata": {},
     "output_type": "execute_result"
    }
   ],
   "source": [
    "df.head()"
   ]
  },
  {
   "cell_type": "code",
   "execution_count": 8,
   "id": "ff95418c",
   "metadata": {},
   "outputs": [],
   "source": [
    "# Separate charges for smokers and non-smokers\n",
    "charges_smokers = df[df['smoker'] == 'yes']['charges']\n",
    "charges_non_smokers = df[df['smoker'] == 'no']['charges']\n"
   ]
  },
  {
   "cell_type": "code",
   "execution_count": 9,
   "id": "ca3b3188",
   "metadata": {},
   "outputs": [
    {
     "data": {
      "text/plain": [
       "0"
      ]
     },
     "execution_count": 9,
     "metadata": {},
     "output_type": "execute_result"
    }
   ],
   "source": [
    "# Check for outliers in weight for strength group\n",
    "zscores= stats.zscore(charges_smokers)\n",
    "outliers = abs(zscores)>3\n",
    "np.sum(outliers)"
   ]
  },
  {
   "cell_type": "code",
   "execution_count": 10,
   "id": "022f2279",
   "metadata": {},
   "outputs": [
    {
     "data": {
      "text/plain": [
       "24"
      ]
     },
     "execution_count": 10,
     "metadata": {},
     "output_type": "execute_result"
    }
   ],
   "source": [
    "# check for outliers in weight for no strength group\n",
    "zscores= stats.zscore(charges_non_smokers)\n",
    "outliers = abs(zscores)>3\n",
    "np.sum(outliers)"
   ]
  },
  {
   "cell_type": "code",
   "execution_count": 11,
   "id": "02a2e086",
   "metadata": {},
   "outputs": [],
   "source": [
    "# remove outliers from strength group\n",
    "charges_non_smokers = charges_non_smokers[(np.abs(stats.zscore(charges_non_smokers)) < 3)]"
   ]
  },
  {
   "cell_type": "code",
   "execution_count": 12,
   "id": "b58a542f",
   "metadata": {},
   "outputs": [
    {
     "data": {
      "text/plain": [
       "NormaltestResult(statistic=61.03941356533816, pvalue=5.564930630036463e-14)"
      ]
     },
     "execution_count": 12,
     "metadata": {},
     "output_type": "execute_result"
    }
   ],
   "source": [
    "# test the strength group for normality\n",
    "result_charges_smokers = stats.normaltest(charges_smokers)\n",
    "result_charges_smokers\n"
   ]
  },
  {
   "cell_type": "code",
   "execution_count": 13,
   "id": "8476271c",
   "metadata": {},
   "outputs": [
    {
     "data": {
      "text/plain": [
       "NormaltestResult(statistic=163.80367047789198, pvalue=2.6945416315543976e-36)"
      ]
     },
     "execution_count": 13,
     "metadata": {},
     "output_type": "execute_result"
    }
   ],
   "source": [
    "result_charges_non_smokers = stats.normaltest(charges_non_smokers)\n",
    "result_charges_non_smokers"
   ]
  },
  {
   "cell_type": "code",
   "execution_count": 14,
   "id": "b2a5f510",
   "metadata": {},
   "outputs": [
    {
     "data": {
      "text/plain": [
       "LeveneResult(statistic=520.7468821724297, pvalue=2.4247238784347824e-97)"
      ]
     },
     "execution_count": 14,
     "metadata": {},
     "output_type": "execute_result"
    }
   ],
   "source": [
    "# Test for equal variance\n",
    "result = stats.levene(charges_smokers, charges_non_smokers)\n",
    "result"
   ]
  },
  {
   "cell_type": "code",
   "execution_count": 15,
   "id": "06195082",
   "metadata": {},
   "outputs": [
    {
     "data": {
      "text/plain": [
       "Ttest_indResult(statistic=33.732305987092516, pvalue=2.575322662587431e-104)"
      ]
     },
     "execution_count": 15,
     "metadata": {},
     "output_type": "execute_result"
    }
   ],
   "source": [
    "# Independent t-test with equal_var set to False\n",
    "result = stats.ttest_ind(charges_smokers, charges_non_smokers, equal_var = False)\n",
    "result"
   ]
  },
  {
   "cell_type": "markdown",
   "id": "3dca1a36",
   "metadata": {},
   "source": [
    "### Q1. Do smokers have higher insurance charges than non-smokers?"
   ]
  },
  {
   "cell_type": "markdown",
   "id": "6c782349",
   "metadata": {},
   "source": [
    "#### Hypotheses:"
   ]
  },
  {
   "cell_type": "markdown",
   "id": "51632940",
   "metadata": {},
   "source": [
    "- Null Hypothesis (H0): Smokers and non-smokers have the same average insurance charges.\n",
    "    \n",
    "- Alternative Hypothesis (H1): Smokers have higher average insurance charges than non-smokers."
   ]
  },
  {
   "cell_type": "markdown",
   "id": "0939d0e2",
   "metadata": {},
   "source": [
    "#### Test Selection:"
   ]
  },
  {
   "cell_type": "markdown",
   "id": "fdfc2a72",
   "metadata": {},
   "source": [
    "- I will use a two-sample t-test since we are comparing the means of two independent groups (smokers and non-smokers) \n",
    "\n",
    "with continuous data (insurance charges)."
   ]
  },
  {
   "cell_type": "markdown",
   "id": "6513ec38",
   "metadata": {},
   "source": [
    "#### Assumptions:"
   ]
  },
  {
   "cell_type": "markdown",
   "id": "40af0687",
   "metadata": {},
   "source": [
    "- Both groups (smokers and non-smokers) are independent random samples.\n",
    "- The data is approximately normally distributed.\n",
    "- The variances in both groups are approximately equal."
   ]
  },
  {
   "cell_type": "markdown",
   "id": "a3d0bbac",
   "metadata": {},
   "source": [
    "#### Execution:"
   ]
  },
  {
   "cell_type": "markdown",
   "id": "d0eaa43d",
   "metadata": {},
   "source": [
    "- Let's perform the two-sample t-test using Python."
   ]
  },
  {
   "cell_type": "code",
   "execution_count": 6,
   "id": "3abc8053",
   "metadata": {},
   "outputs": [
    {
     "name": "stdout",
     "output_type": "stream",
     "text": [
      "T-statistic: 46.66492117272371\n",
      "P-value: 8.271435842179102e-283\n"
     ]
    }
   ],
   "source": [
    "# Separate charges for smokers and non-smokers\n",
    "charges_smokers = df[df['smoker'] == 'yes']['charges']\n",
    "charges_non_smokers = df[df['smoker'] == 'no']['charges']\n",
    "\n",
    "# Perform the t-test\n",
    "t_stat, p_value = stats.ttest_ind(charges_smokers, charges_non_smokers)\n",
    "\n",
    "print(\"T-statistic:\", t_stat)\n",
    "print(\"P-value:\", p_value)"
   ]
  },
  {
   "cell_type": "markdown",
   "id": "1e5640c3",
   "metadata": {},
   "source": [
    "#### Interpretation:"
   ]
  },
  {
   "cell_type": "markdown",
   "id": "c3b6111c",
   "metadata": {},
   "source": [
    "- The T-statistic measures the difference in means relative to the variation in the data. \n",
    "- A larger T-statistic indicates a larger difference.\n",
    "- The P-value tells us the probability of observing this T-statistic if the null hypothesis is true.\n",
    "- In our case, we obtained a very low P-value (close to zero), indicating strong evidence against the null hypothesis."
   ]
  },
  {
   "cell_type": "markdown",
   "id": "01c2970e",
   "metadata": {},
   "source": [
    "#### Supporting Visualization"
   ]
  },
  {
   "cell_type": "code",
   "execution_count": 7,
   "id": "2cf83b9e",
   "metadata": {},
   "outputs": [
    {
     "data": {
      "image/png": "[encoded data removed]",
      "text/plain": [
       "<Figure size 800x600 with 1 Axes>"
      ]
     },
     "metadata": {},
     "output_type": "display_data"
    }
   ],
   "source": [
    "# Create a boxplot\n",
    "plt.figure(figsize=(8, 6))\n",
    "sns.boxplot(x='smoker', y='charges', data=df)\n",
    "plt.title('Insurance Charges for Smokers vs. Non-Smokers')\n",
    "plt.xlabel('Smoker')\n",
    "plt.ylabel('Insurance Charges')\n",
    "plt.show()"
   ]
  },
  {
   "cell_type": "markdown",
   "id": "85754bc1",
   "metadata": {},
   "source": [
    "#### Conlusion:"
   ]
  },
  {
   "cell_type": "markdown",
   "id": "1b4b5507",
   "metadata": {},
   "source": [
    "The t-test has yielded a very high t-statistic and an extremely low p-value.\n",
    "\n",
    "The t-statistic indicates that there is a significant difference in insurance charges between smokers and non-smokers.\n",
    "\n",
    "The p-value is extremely close to zero (much smaller than the typical significance level of 0.05). Therefore, \n",
    "we can reject the null hypothesis (H0) and conclude that there is strong evidence to suggest that smokers \n",
    "have significantly higher insurance charges than non-smokers.\n",
    "\n",
    "In summary, based on this analysis, it appears that being a smoker is associated with significantly higher insurance charges."
   ]
  },
  {
   "cell_type": "markdown",
   "id": "a8e25eb9",
   "metadata": {},
   "source": [
    "### Q2. Are men more likely to smoke than women?"
   ]
  },
  {
   "cell_type": "markdown",
   "id": "7422f9cf",
   "metadata": {},
   "source": [
    "#### Hypotheses:"
   ]
  },
  {
   "cell_type": "markdown",
   "id": "23c0eb51",
   "metadata": {},
   "source": [
    "- Null Hypothesis (H0): The proportion of men who smoke is the same as the proportion of women who smoke.\n",
    "- Alternative Hypothesis (H1): The proportion of men who smoke is different from the proportion of women who smoke."
   ]
  },
  {
   "cell_type": "markdown",
   "id": "d1dc0dd7",
   "metadata": {},
   "source": [
    "#### Test Selection:"
   ]
  },
  {
   "cell_type": "markdown",
   "id": "bfa7e5c0",
   "metadata": {},
   "source": [
    "- We will use a chi-squared test of independence since we are comparing two categorical variables (gender and smoking status) \n",
    "to determine if they are independent or associated."
   ]
  },
  {
   "cell_type": "markdown",
   "id": "54275d20",
   "metadata": {},
   "source": [
    "#### Assumptions:"
   ]
  },
  {
   "cell_type": "markdown",
   "id": "fa1e84d9",
   "metadata": {},
   "source": [
    "- The data is categorical, and observations are independent."
   ]
  },
  {
   "cell_type": "markdown",
   "id": "638aafe2",
   "metadata": {},
   "source": [
    "#### Execution:"
   ]
  },
  {
   "cell_type": "markdown",
   "id": "397cc091",
   "metadata": {},
   "source": [
    "- Let's perform the chi-squared test"
   ]
  },
  {
   "cell_type": "code",
   "execution_count": 27,
   "id": "a165c214",
   "metadata": {},
   "outputs": [
    {
     "name": "stdout",
     "output_type": "stream",
     "text": [
      "Chi-squared statistic: 7.39291081459996\n",
      "P-value: 0.006548143503580696\n"
     ]
    }
   ],
   "source": [
    "from scipy.stats import chi2_contingency\n",
    "\n",
    "# Create a contingency table\n",
    "contingency_table = pd.crosstab(df['sex'], df['smoker'])\n",
    "\n",
    "# Perform the chi-squared test\n",
    "chi2, p_value, _, _ = chi2_contingency(contingency_table)\n",
    "\n",
    "# Print the results\n",
    "print(f'Chi-squared statistic: {chi2}')\n",
    "print(f'P-value: {p_value}')\n"
   ]
  },
  {
   "cell_type": "markdown",
   "id": "27eac9dd",
   "metadata": {},
   "source": [
    "#### Interpretation:"
   ]
  },
  {
   "cell_type": "markdown",
   "id": "80961f53",
   "metadata": {},
   "source": [
    "- Since the p-value (0.0065) is less than the significance level (commonly set at 0.05), we reject the null hypothesis.\n",
    "- This indicates that there is a statistically significant association between gender and smoking status."
   ]
  },
  {
   "cell_type": "markdown",
   "id": "592ff504",
   "metadata": {},
   "source": [
    "#### Supporting Visualization:"
   ]
  },
  {
   "cell_type": "code",
   "execution_count": 28,
   "id": "c56873cf",
   "metadata": {},
   "outputs": [
    {
     "data": {
      "image/png": "[encoded data removed]",
      "text/plain": [
       "<Figure size 800x600 with 1 Axes>"
      ]
     },
     "metadata": {},
     "output_type": "display_data"
    }
   ],
   "source": [
    "# Create a stacked bar chart\n",
    "plt.figure(figsize=(8, 6))\n",
    "sns.countplot(data=df, x='sex', hue='smoker')\n",
    "plt.title('Smoking Status by Gender')\n",
    "plt.xlabel('Gender')\n",
    "plt.ylabel('Count')\n",
    "plt.legend(title='Smoker', loc='upper right', labels=['Non-Smoker', 'Smoker'])\n",
    "plt.show()"
   ]
  },
  {
   "cell_type": "markdown",
   "id": "5047da88",
   "metadata": {},
   "source": [
    "#### Conclusion:"
   ]
  },
  {
   "cell_type": "markdown",
   "id": "386946b4",
   "metadata": {},
   "source": [
    "In the context of this specific analysis, \n",
    "it suggests that the proportion of men who smoke is different from the proportion of women who smoke. \n",
    "Therefore, based on the data, it appears that there is a difference in smoking habits between men and women.\n"
   ]
  },
  {
   "cell_type": "markdown",
   "id": "6b37dec1",
   "metadata": {},
   "source": [
    "### Q3. Do different regions have different charges, on average?"
   ]
  },
  {
   "cell_type": "markdown",
   "id": "51b463d0",
   "metadata": {},
   "source": [
    "#### Hypotheses:"
   ]
  },
  {
   "cell_type": "markdown",
   "id": "275afa52",
   "metadata": {},
   "source": [
    "- Null Hypothesis (H0): There is no significant difference in average charges among different regions.\n",
    "- Alternative Hypothesis (H1): There is a significant difference in average charges among different regions."
   ]
  },
  {
   "cell_type": "markdown",
   "id": "752fc942",
   "metadata": {},
   "source": [
    "#### Test Selection:"
   ]
  },
  {
   "cell_type": "markdown",
   "id": "f9b5b42e",
   "metadata": {},
   "source": [
    "- We used an analysis of variance (ANOVA) test to compare the means of multiple groups (regions) to determine if there is a \n",
    "significant difference in their average charges."
   ]
  },
  {
   "cell_type": "markdown",
   "id": "5e2da428",
   "metadata": {},
   "source": [
    "#### Assumptions"
   ]
  },
  {
   "cell_type": "markdown",
   "id": "1b8c7f5f",
   "metadata": {},
   "source": [
    "- Independence: Each observation (individual's insurance charges) should be independent of the others.\n",
    "- Normality: The data should follow a roughly normal distribution within each group (region).\n",
    "            We checked this assumption by visual inspection and normality tests (e.g., Shapiro-Wilk).\n",
    "- Homogeneity of Variances: The variances of the charges in each region should be roughly equal. \n",
    "            We checked this assumption using Levene's test or by visual inspection of boxplots."
   ]
  },
  {
   "cell_type": "markdown",
   "id": "354a0fe5",
   "metadata": {},
   "source": [
    "#### Execution:"
   ]
  },
  {
   "cell_type": "code",
   "execution_count": 30,
   "id": "0bfccc35",
   "metadata": {},
   "outputs": [],
   "source": [
    "# Perform the ANOVA test\n",
    "result = stats.f_oneway(\n",
    "    df[df['region'] == 'southwest']['charges'],\n",
    "    df[df['region'] == 'southeast']['charges'],\n",
    "    df[df['region'] == 'northwest']['charges'],\n",
    "    df[df['region'] == 'northeast']['charges']\n",
    ")"
   ]
  },
  {
   "cell_type": "code",
   "execution_count": 31,
   "id": "92692775",
   "metadata": {},
   "outputs": [
    {
     "name": "stdout",
     "output_type": "stream",
     "text": [
      "F-Statistic: 2.96962669358912\n",
      "P-value: 0.0308933560705201\n",
      "Reject the Null Hypothesis.\n",
      "There is a significant difference in average charges among different regions.\n"
     ]
    }
   ],
   "source": [
    "# Extract F-statistic and p-value\n",
    "f_statistic = result.statistic\n",
    "p_value = result.pvalue\n",
    "\n",
    "# Print the results\n",
    "print(\"F-Statistic:\", f_statistic)\n",
    "print(\"P-value:\", p_value)\n",
    "\n",
    "# Define significance level\n",
    "alpha = 0.05\n",
    "\n",
    "# Compare p-value to alpha\n",
    "if p_value < alpha:\n",
    "    print(\"Reject the Null Hypothesis.\")\n",
    "    print(\"There is a significant difference in average charges among different regions.\")\n",
    "else:\n",
    "    print(\"Fail to Reject the Null Hypothesis.\")\n",
    "    print(\"There is no significant difference in average charges among different regions.\")\n"
   ]
  },
  {
   "cell_type": "markdown",
   "id": "b5cb1fdb",
   "metadata": {},
   "source": [
    "#### Interpretation:"
   ]
  },
  {
   "cell_type": "markdown",
   "id": "9ae8882e",
   "metadata": {},
   "source": [
    "- The F-statistic is 2.97, and the associated p-value is 0.031.\n",
    "- Given that the p-value is less than the significance level (e.g., 0.05), we reject the null hypothesis."
   ]
  },
  {
   "cell_type": "markdown",
   "id": "d2e025ac",
   "metadata": {},
   "source": [
    "#### Supporting Visualization"
   ]
  },
  {
   "cell_type": "code",
   "execution_count": 34,
   "id": "b9d05b4d",
   "metadata": {},
   "outputs": [
    {
     "data": {
      "image/png": "[encoded data removed]",
      "text/plain": [
       "<Figure size 1000x600 with 1 Axes>"
      ]
     },
     "metadata": {},
     "output_type": "display_data"
    }
   ],
   "source": [
    "# Create a box plot\n",
    "plt.figure(figsize=(10, 6))\n",
    "sns.boxplot(x='region', y='charges', data=df)\n",
    "plt.title('Distribution of Charges by Region')\n",
    "plt.show()\n"
   ]
  },
  {
   "cell_type": "markdown",
   "id": "be81a861",
   "metadata": {},
   "source": [
    "#### Conclusion:"
   ]
  },
  {
   "cell_type": "markdown",
   "id": "2147fbde",
   "metadata": {},
   "source": [
    "- There is a significant difference in average insurance charges among different regions."
   ]
  },
  {
   "cell_type": "code",
   "execution_count": null,
   "id": "49bca3aa",
   "metadata": {},
   "outputs": [],
   "source": []
  }
 ],
 "metadata": {
  "kernelspec": {
   "display_name": "Python 3 (ipykernel)",
   "language": "python",
   "name": "python3"
  },
  "language_info": {
   "codemirror_mode": {
    "name": "ipython",
    "version": 3
   },
   "file_extension": ".py",
   "mimetype": "text/x-python",
   "name": "python",
   "nbconvert_exporter": "python",
   "pygments_lexer": "ipython3",
   "version": "3.10.10"
  }
 },
 "nbformat": 4,
 "nbformat_minor": 5
}
