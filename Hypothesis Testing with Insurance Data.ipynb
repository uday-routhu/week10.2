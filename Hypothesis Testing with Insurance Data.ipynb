{
 "cells": [
  {
   "cell_type": "markdown",
   "id": "df246836",
   "metadata": {},
   "source": [
    "#### Author: Uday Routhu"
   ]
  },
  {
   "cell_type": "markdown",
   "id": "b3c29a1a",
   "metadata": {},
   "source": [
    "#### Assignment: Hypothesis Testing with Insurance Data(Core)"
   ]
  },
  {
   "cell_type": "markdown",
   "id": "03982331",
   "metadata": {},
   "source": [
    "#### Imports"
   ]
  },
  {
   "cell_type": "code",
   "execution_count": 37,
   "id": "2be6379b",
   "metadata": {},
   "outputs": [],
   "source": [
    "import pandas as pd\n",
    "import numpy as np\n",
    "import matplotlib.pyplot as plt\n",
    "import seaborn as sns\n",
    "from sklearn.preprocessing import StandardScaler\n",
    "from scipy import stats\n",
    "from scipy.stats import chi2_contingency"
   ]
  },
  {
   "cell_type": "code",
   "execution_count": 3,
   "id": "d480ac70",
   "metadata": {},
   "outputs": [],
   "source": [
    "df = pd.read_csv('Data/insurance - insurance.csv')"
   ]
  },
  {
   "cell_type": "code",
   "execution_count": 4,
   "id": "1ca98dee",
   "metadata": {},
   "outputs": [
    {
     "name": "stdout",
     "output_type": "stream",
     "text": [
      "<class 'pandas.core.frame.DataFrame'>\n",
      "RangeIndex: 1338 entries, 0 to 1337\n",
      "Data columns (total 7 columns):\n",
      " #   Column    Non-Null Count  Dtype  \n",
      "---  ------    --------------  -----  \n",
      " 0   age       1338 non-null   int64  \n",
      " 1   sex       1338 non-null   object \n",
      " 2   bmi       1338 non-null   float64\n",
      " 3   children  1338 non-null   int64  \n",
      " 4   smoker    1338 non-null   object \n",
      " 5   region    1338 non-null   object \n",
      " 6   charges   1338 non-null   float64\n",
      "dtypes: float64(2), int64(2), object(3)\n",
      "memory usage: 73.3+ KB\n"
     ]
    }
   ],
   "source": [
    "df.info()"
   ]
  },
  {
   "cell_type": "code",
   "execution_count": 5,
   "id": "4f0d096f",
   "metadata": {},
   "outputs": [
    {
     "data": {
      "text/html": [
       "<div>\n",
       "<style scoped>\n",
       "    .dataframe tbody tr th:only-of-type {\n",
       "        vertical-align: middle;\n",
       "    }\n",
       "\n",
       "    .dataframe tbody tr th {\n",
       "        vertical-align: top;\n",
       "    }\n",
       "\n",
       "    .dataframe thead th {\n",
       "        text-align: right;\n",
       "    }\n",
       "</style>\n",
       "<table border=\"1\" class=\"dataframe\">\n",
       "  <thead>\n",
       "    <tr style=\"text-align: right;\">\n",
       "      <th></th>\n",
       "      <th>age</th>\n",
       "      <th>sex</th>\n",
       "      <th>bmi</th>\n",
       "      <th>children</th>\n",
       "      <th>smoker</th>\n",
       "      <th>region</th>\n",
       "      <th>charges</th>\n",
       "    </tr>\n",
       "  </thead>\n",
       "  <tbody>\n",
       "    <tr>\n",
       "      <th>0</th>\n",
       "      <td>19</td>\n",
       "      <td>female</td>\n",
       "      <td>27.900</td>\n",
       "      <td>0</td>\n",
       "      <td>yes</td>\n",
       "      <td>southwest</td>\n",
       "      <td>16884.92400</td>\n",
       "    </tr>\n",
       "    <tr>\n",
       "      <th>1</th>\n",
       "      <td>18</td>\n",
       "      <td>male</td>\n",
       "      <td>33.770</td>\n",
       "      <td>1</td>\n",
       "      <td>no</td>\n",
       "      <td>southeast</td>\n",
       "      <td>1725.55230</td>\n",
       "    </tr>\n",
       "    <tr>\n",
       "      <th>2</th>\n",
       "      <td>28</td>\n",
       "      <td>male</td>\n",
       "      <td>33.000</td>\n",
       "      <td>3</td>\n",
       "      <td>no</td>\n",
       "      <td>southeast</td>\n",
       "      <td>4449.46200</td>\n",
       "    </tr>\n",
       "    <tr>\n",
       "      <th>3</th>\n",
       "      <td>33</td>\n",
       "      <td>male</td>\n",
       "      <td>22.705</td>\n",
       "      <td>0</td>\n",
       "      <td>no</td>\n",
       "      <td>northwest</td>\n",
       "      <td>21984.47061</td>\n",
       "    </tr>\n",
       "    <tr>\n",
       "      <th>4</th>\n",
       "      <td>32</td>\n",
       "      <td>male</td>\n",
       "      <td>28.880</td>\n",
       "      <td>0</td>\n",
       "      <td>no</td>\n",
       "      <td>northwest</td>\n",
       "      <td>3866.85520</td>\n",
       "    </tr>\n",
       "  </tbody>\n",
       "</table>\n",
       "</div>"
      ],
      "text/plain": [
       "   age     sex     bmi  children smoker     region      charges\n",
       "0   19  female  27.900         0    yes  southwest  16884.92400\n",
       "1   18    male  33.770         1     no  southeast   1725.55230\n",
       "2   28    male  33.000         3     no  southeast   4449.46200\n",
       "3   33    male  22.705         0     no  northwest  21984.47061\n",
       "4   32    male  28.880         0     no  northwest   3866.85520"
      ]
     },
     "execution_count": 5,
     "metadata": {},
     "output_type": "execute_result"
    }
   ],
   "source": [
    "df.head()"
   ]
  },
  {
   "cell_type": "markdown",
   "id": "1685e536",
   "metadata": {},
   "source": [
    "### Q1. Do smokers have higher insurance charges than non-smokers?"
   ]
  },
  {
   "cell_type": "markdown",
   "id": "bb789eb8",
   "metadata": {},
   "source": [
    "#### Hypotheses:"
   ]
  },
  {
   "cell_type": "markdown",
   "id": "93a20650",
   "metadata": {},
   "source": [
    "- Null Hypothesis (H0): Smokers and non-smokers have the same average insurance charges.\n",
    "    \n",
    "- Alternative Hypothesis (H1): Smokers have higher average insurance charges than non-smokers."
   ]
  },
  {
   "cell_type": "markdown",
   "id": "1920a7ae",
   "metadata": {},
   "source": [
    "#### Test Selection:"
   ]
  },
  {
   "cell_type": "markdown",
   "id": "198f006b",
   "metadata": {},
   "source": [
    "- I will use a two-sample t-test since we are comparing the means of two independent groups (smokers and non-smokers) \n",
    "\n",
    "with continuous data (insurance charges)."
   ]
  },
  {
   "cell_type": "markdown",
   "id": "13c654c2",
   "metadata": {},
   "source": [
    "#### Assumptions:"
   ]
  },
  {
   "cell_type": "markdown",
   "id": "d57e6900",
   "metadata": {},
   "source": [
    "- Both groups (smokers and non-smokers) are independent random samples.\n",
    "- The data is approximately normally distributed.\n",
    "- The variances in both groups are approximately equal."
   ]
  },
  {
   "cell_type": "markdown",
   "id": "88da3af9",
   "metadata": {},
   "source": [
    "#### Execution:"
   ]
  },
  {
   "cell_type": "markdown",
   "id": "0e52135a",
   "metadata": {},
   "source": [
    "- Let's perform the two-sample t-test"
   ]
  },
  {
   "cell_type": "code",
   "execution_count": 6,
   "id": "0d2e8c1a",
   "metadata": {},
   "outputs": [
    {
     "name": "stdout",
     "output_type": "stream",
     "text": [
      "T-statistic: 46.66492117272371\n",
      "P-value: 8.271435842179102e-283\n"
     ]
    }
   ],
   "source": [
    "# Separate charges for smokers and non-smokers\n",
    "charges_smokers = df[df['smoker'] == 'yes']['charges']\n",
    "charges_non_smokers = df[df['smoker'] == 'no']['charges']\n",
    "\n",
    "# Perform the t-test\n",
    "t_stat, p_value = stats.ttest_ind(charges_smokers, charges_non_smokers)\n",
    "\n",
    "print(\"T-statistic:\", t_stat)\n",
    "print(\"P-value:\", p_value)"
   ]
  },
  {
   "cell_type": "markdown",
   "id": "f8727555",
   "metadata": {},
   "source": [
    "#### Interpretation:"
   ]
  },
  {
   "cell_type": "markdown",
   "id": "d4958682",
   "metadata": {},
   "source": [
    "- The T-statistic measures the difference in means relative to the variation in the data. \n",
    "- A larger T-statistic indicates a larger difference.\n",
    "- The P-value tells us the probability of observing this T-statistic if the null hypothesis is true.\n",
    "- In our case, we obtained a very low P-value (close to zero), indicating strong evidence against the null hypothesis."
   ]
  },
  {
   "cell_type": "markdown",
   "id": "1fc7f5bd",
   "metadata": {},
   "source": [
    "#### Supporting Visualization"
   ]
  },
  {
   "cell_type": "code",
   "execution_count": 7,
   "id": "f876ea47",
   "metadata": {},
   "outputs": [
    {
     "data": {
      "image/png": "[encoded data removed]",
      "text/plain": [
       "<Figure size 800x600 with 1 Axes>"
      ]
     },
     "metadata": {},
     "output_type": "display_data"
    }
   ],
   "source": [
    "# Create a boxplot\n",
    "plt.figure(figsize=(8, 6))\n",
    "sns.boxplot(x='smoker', y='charges', data=df)\n",
    "plt.title('Insurance Charges for Smokers vs. Non-Smokers')\n",
    "plt.xlabel('Smoker')\n",
    "plt.ylabel('Insurance Charges')\n",
    "plt.show()"
   ]
  },
  {
   "cell_type": "markdown",
   "id": "7cdd49b6",
   "metadata": {},
   "source": [
    "#### Conlusion:"
   ]
  },
  {
   "cell_type": "markdown",
   "id": "076a09fc",
   "metadata": {},
   "source": [
    "The t-test has yielded a very high t-statistic and an extremely low p-value.\n",
    "\n",
    "The t-statistic indicates that there is a significant difference in insurance charges between smokers and non-smokers.\n",
    "\n",
    "The p-value is extremely close to zero (much smaller than the typical significance level of 0.05). Therefore, \n",
    "we can reject the null hypothesis (H0) and conclude that there is strong evidence to suggest that smokers \n",
    "have significantly higher insurance charges than non-smokers.\n",
    "\n",
    "In summary, based on this analysis, it appears that being a smoker is associated with significantly higher insurance charges."
   ]
  },
  {
   "cell_type": "markdown",
   "id": "f020eba5",
   "metadata": {},
   "source": [
    "### Q2. Are men more likely to smoke than women?"
   ]
  },
  {
   "cell_type": "markdown",
   "id": "f5d8d189",
   "metadata": {},
   "source": [
    "#### Hypotheses:"
   ]
  },
  {
   "cell_type": "markdown",
   "id": "ca99221b",
   "metadata": {},
   "source": [
    "- Null Hypothesis (H0): The proportion of men who smoke is the same as the proportion of women who smoke.\n",
    "- Alternative Hypothesis (H1): The proportion of men who smoke is different from the proportion of women who smoke."
   ]
  },
  {
   "cell_type": "markdown",
   "id": "eeb63a74",
   "metadata": {},
   "source": [
    "#### Test Selection:"
   ]
  },
  {
   "cell_type": "markdown",
   "id": "94eb6eb2",
   "metadata": {},
   "source": [
    "- We will use a chi-squared test of independence since we are comparing two categorical variables (gender and smoking status) \n",
    "to determine if they are independent or associated."
   ]
  },
  {
   "cell_type": "markdown",
   "id": "2ad7af21",
   "metadata": {},
   "source": [
    "#### Assumptions:"
   ]
  },
  {
   "cell_type": "markdown",
   "id": "e0ca030c",
   "metadata": {},
   "source": [
    "- The data is categorical, and observations are independent."
   ]
  },
  {
   "cell_type": "markdown",
   "id": "e39379c4",
   "metadata": {},
   "source": [
    "#### Execution:"
   ]
  },
  {
   "cell_type": "markdown",
   "id": "ff77090e",
   "metadata": {},
   "source": [
    "- Let's perform the chi-squared test"
   ]
  },
  {
   "cell_type": "code",
   "execution_count": 27,
   "id": "9146de51",
   "metadata": {},
   "outputs": [
    {
     "name": "stdout",
     "output_type": "stream",
     "text": [
      "Chi-squared statistic: 7.39291081459996\n",
      "P-value: 0.006548143503580696\n"
     ]
    }
   ],
   "source": [
    "# Create a contingency table\n",
    "contingency_table = pd.crosstab(df['sex'], df['smoker'])\n",
    "\n",
    "# Perform the chi-squared test\n",
    "chi2, p_value, _, _ = chi2_contingency(contingency_table)\n",
    "\n",
    "# Print the results\n",
    "print(f'Chi-squared statistic: {chi2}')\n",
    "print(f'P-value: {p_value}')\n"
   ]
  },
  {
   "cell_type": "markdown",
   "id": "0e6dbc14",
   "metadata": {},
   "source": [
    "#### Interpretation:"
   ]
  },
  {
   "cell_type": "markdown",
   "id": "8de45c1e",
   "metadata": {},
   "source": [
    "- Since the p-value (0.0065) is less than the significance level (commonly set at 0.05), we reject the null hypothesis.\n",
    "- This indicates that there is a statistically significant association between gender and smoking status."
   ]
  },
  {
   "cell_type": "markdown",
   "id": "8ca4803c",
   "metadata": {},
   "source": [
    "#### Supporting Visualization:"
   ]
  },
  {
   "cell_type": "code",
   "execution_count": 36,
   "id": "20692055",
   "metadata": {},
   "outputs": [
    {
     "data": {
      "image/png": "[encoded data removed]",
      "text/plain": [
       "<Figure size 800x600 with 1 Axes>"
      ]
     },
     "metadata": {},
     "output_type": "display_data"
    }
   ],
   "source": [
    "# Create a stacked bar chart\n",
    "plt.figure(figsize=(8, 6))\n",
    "sns.countplot(data=df, x='sex', hue='smoker')\n",
    "plt.title('Smoking Status by Gender')\n",
    "plt.xlabel('Gender')\n",
    "plt.ylabel('Count')\n",
    "plt.legend(title='', loc='upper right', labels=['Non-Smoker', 'Smoker'])\n",
    "plt.show()"
   ]
  },
  {
   "cell_type": "markdown",
   "id": "7b77a4bf",
   "metadata": {},
   "source": [
    "#### Conclusion:"
   ]
  },
  {
   "cell_type": "markdown",
   "id": "e65579c7",
   "metadata": {},
   "source": [
    "In the context of this specific analysis, \n",
    "it suggests that the proportion of men who smoke is different from the proportion of women who smoke. \n",
    "Therefore, based on the data, it appears that there is a difference in smoking habits between men and women.\n"
   ]
  },
  {
   "cell_type": "markdown",
   "id": "89076b29",
   "metadata": {},
   "source": [
    "### Q3. Do different regions have different charges, on average?"
   ]
  },
  {
   "cell_type": "markdown",
   "id": "8a8c3f56",
   "metadata": {},
   "source": [
    "#### Hypotheses:"
   ]
  },
  {
   "cell_type": "markdown",
   "id": "7daf7a00",
   "metadata": {},
   "source": [
    "- Null Hypothesis (H0): There is no significant difference in average charges among different regions.\n",
    "- Alternative Hypothesis (H1): There is a significant difference in average charges among different regions."
   ]
  },
  {
   "cell_type": "markdown",
   "id": "342200b0",
   "metadata": {},
   "source": [
    "#### Test Selection:"
   ]
  },
  {
   "cell_type": "markdown",
   "id": "9c10a2be",
   "metadata": {},
   "source": [
    "- We used an analysis of variance (ANOVA) test to compare the means of multiple groups (regions) to determine if there is a \n",
    "significant difference in their average charges."
   ]
  },
  {
   "cell_type": "markdown",
   "id": "56a74a8a",
   "metadata": {},
   "source": [
    "#### Assumptions"
   ]
  },
  {
   "cell_type": "markdown",
   "id": "d4bd79fe",
   "metadata": {},
   "source": [
    "- Independence: The observations are independent within and between groups.\n",
    "- Normality: The data in each region follows a normal distribution.\n",
    "- Homogeneity of Variance: The variances within each group (region) are approximately equal."
   ]
  },
  {
   "cell_type": "markdown",
   "id": "ac068b1e",
   "metadata": {},
   "source": [
    "#### Execution:"
   ]
  },
  {
   "cell_type": "code",
   "execution_count": 30,
   "id": "3380b759",
   "metadata": {},
   "outputs": [],
   "source": [
    "# Perform the ANOVA test\n",
    "result = stats.f_oneway(\n",
    "    df[df['region'] == 'southwest']['charges'],\n",
    "    df[df['region'] == 'southeast']['charges'],\n",
    "    df[df['region'] == 'northwest']['charges'],\n",
    "    df[df['region'] == 'northeast']['charges']\n",
    ")"
   ]
  },
  {
   "cell_type": "code",
   "execution_count": 31,
   "id": "569c54d9",
   "metadata": {},
   "outputs": [
    {
     "name": "stdout",
     "output_type": "stream",
     "text": [
      "F-Statistic: 2.96962669358912\n",
      "P-value: 0.0308933560705201\n",
      "Reject the Null Hypothesis.\n",
      "There is a significant difference in average charges among different regions.\n"
     ]
    }
   ],
   "source": [
    "# Extract F-statistic and p-value\n",
    "f_statistic = result.statistic\n",
    "p_value = result.pvalue\n",
    "\n",
    "# Print the results\n",
    "print(\"F-Statistic:\", f_statistic)\n",
    "print(\"P-value:\", p_value)\n",
    "\n",
    "# Define significance level\n",
    "alpha = 0.05\n",
    "\n",
    "# Compare p-value to alpha\n",
    "if p_value < alpha:\n",
    "    print(\"Reject the Null Hypothesis.\")\n",
    "    print(\"There is a significant difference in average charges among different regions.\")\n",
    "else:\n",
    "    print(\"Fail to Reject the Null Hypothesis.\")\n",
    "    print(\"There is no significant difference in average charges among different regions.\")\n"
   ]
  },
  {
   "cell_type": "markdown",
   "id": "2713aff4",
   "metadata": {},
   "source": [
    "#### Interpretation:"
   ]
  },
  {
   "cell_type": "markdown",
   "id": "5090a3ec",
   "metadata": {},
   "source": [
    "- The F-statistic is 2.97, and the associated p-value is 0.031.\n",
    "- Given that the p-value is less than the significance level (e.g., 0.05), we reject the null hypothesis."
   ]
  },
  {
   "cell_type": "markdown",
   "id": "f1abad1f",
   "metadata": {},
   "source": [
    "#### Supporting Visualization"
   ]
  },
  {
   "cell_type": "code",
   "execution_count": 34,
   "id": "f18d4065",
   "metadata": {},
   "outputs": [
    {
     "data": {
      "image/png": "[encoded data removed]",
      "text/plain": [
       "<Figure size 1000x600 with 1 Axes>"
      ]
     },
     "metadata": {},
     "output_type": "display_data"
    }
   ],
   "source": [
    "# Create a box plot\n",
    "plt.figure(figsize=(10, 6))\n",
    "sns.boxplot(x='region', y='charges', data=df)\n",
    "plt.title('Distribution of Charges by Region')\n",
    "plt.show()\n"
   ]
  },
  {
   "cell_type": "markdown",
   "id": "2ae4f8fc",
   "metadata": {},
   "source": [
    "#### Conclusion:"
   ]
  },
  {
   "cell_type": "markdown",
   "id": "8aac34ac",
   "metadata": {},
   "source": [
    "- There is a significant difference in average insurance charges among different regions."
   ]
  },
  {
   "cell_type": "code",
   "execution_count": null,
   "id": "046b30c3",
   "metadata": {},
   "outputs": [],
   "source": []
  }
 ],
 "metadata": {
  "kernelspec": {
   "display_name": "Python 3 (ipykernel)",
   "language": "python",
   "name": "python3"
  },
  "language_info": {
   "codemirror_mode": {
    "name": "ipython",
    "version": 3
   },
   "file_extension": ".py",
   "mimetype": "text/x-python",
   "name": "python",
   "nbconvert_exporter": "python",
   "pygments_lexer": "ipython3",
   "version": "3.10.10"
  }
 },
 "nbformat": 4,
 "nbformat_minor": 5
}
