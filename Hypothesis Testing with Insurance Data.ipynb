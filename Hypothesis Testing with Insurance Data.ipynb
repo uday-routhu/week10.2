{
 "cells": [
  {
   "cell_type": "markdown",
   "id": "df246836",
   "metadata": {},
   "source": [
    "#### Author: Uday Routhu"
   ]
  },
  {
   "cell_type": "markdown",
   "id": "b3c29a1a",
   "metadata": {},
   "source": [
    "#### Assignment: Hypothesis Testing with Insurance Data(Core)"
   ]
  },
  {
   "cell_type": "markdown",
   "id": "03982331",
   "metadata": {},
   "source": [
    "#### Imports"
   ]
  },
  {
   "cell_type": "code",
   "execution_count": 1,
   "id": "2be6379b",
   "metadata": {},
   "outputs": [],
   "source": [
    "import pandas as pd\n",
    "import numpy as np\n",
    "import matplotlib.pyplot as plt\n",
    "import seaborn as sns\n",
    "from sklearn.preprocessing import StandardScaler\n",
    "from scipy import stats\n",
    "from scipy.stats import chi2_contingency"
   ]
  },
  {
   "cell_type": "code",
   "execution_count": 35,
   "id": "d480ac70",
   "metadata": {},
   "outputs": [],
   "source": [
    "df = pd.read_csv('Data/insurance - insurance.csv')"
   ]
  },
  {
   "cell_type": "code",
   "execution_count": 36,
   "id": "1ca98dee",
   "metadata": {},
   "outputs": [
    {
     "name": "stdout",
     "output_type": "stream",
     "text": [
      "<class 'pandas.core.frame.DataFrame'>\n",
      "RangeIndex: 1338 entries, 0 to 1337\n",
      "Data columns (total 7 columns):\n",
      " #   Column    Non-Null Count  Dtype  \n",
      "---  ------    --------------  -----  \n",
      " 0   age       1338 non-null   int64  \n",
      " 1   sex       1338 non-null   object \n",
      " 2   bmi       1338 non-null   float64\n",
      " 3   children  1338 non-null   int64  \n",
      " 4   smoker    1338 non-null   object \n",
      " 5   region    1338 non-null   object \n",
      " 6   charges   1338 non-null   float64\n",
      "dtypes: float64(2), int64(2), object(3)\n",
      "memory usage: 73.3+ KB\n"
     ]
    }
   ],
   "source": [
    "df.info()"
   ]
  },
  {
   "cell_type": "code",
   "execution_count": 37,
   "id": "4f0d096f",
   "metadata": {},
   "outputs": [
    {
     "data": {
      "text/html": [
       "<div>\n",
       "<style scoped>\n",
       "    .dataframe tbody tr th:only-of-type {\n",
       "        vertical-align: middle;\n",
       "    }\n",
       "\n",
       "    .dataframe tbody tr th {\n",
       "        vertical-align: top;\n",
       "    }\n",
       "\n",
       "    .dataframe thead th {\n",
       "        text-align: right;\n",
       "    }\n",
       "</style>\n",
       "<table border=\"1\" class=\"dataframe\">\n",
       "  <thead>\n",
       "    <tr style=\"text-align: right;\">\n",
       "      <th></th>\n",
       "      <th>age</th>\n",
       "      <th>sex</th>\n",
       "      <th>bmi</th>\n",
       "      <th>children</th>\n",
       "      <th>smoker</th>\n",
       "      <th>region</th>\n",
       "      <th>charges</th>\n",
       "    </tr>\n",
       "  </thead>\n",
       "  <tbody>\n",
       "    <tr>\n",
       "      <th>0</th>\n",
       "      <td>19</td>\n",
       "      <td>female</td>\n",
       "      <td>27.900</td>\n",
       "      <td>0</td>\n",
       "      <td>yes</td>\n",
       "      <td>southwest</td>\n",
       "      <td>16884.92400</td>\n",
       "    </tr>\n",
       "    <tr>\n",
       "      <th>1</th>\n",
       "      <td>18</td>\n",
       "      <td>male</td>\n",
       "      <td>33.770</td>\n",
       "      <td>1</td>\n",
       "      <td>no</td>\n",
       "      <td>southeast</td>\n",
       "      <td>1725.55230</td>\n",
       "    </tr>\n",
       "    <tr>\n",
       "      <th>2</th>\n",
       "      <td>28</td>\n",
       "      <td>male</td>\n",
       "      <td>33.000</td>\n",
       "      <td>3</td>\n",
       "      <td>no</td>\n",
       "      <td>southeast</td>\n",
       "      <td>4449.46200</td>\n",
       "    </tr>\n",
       "    <tr>\n",
       "      <th>3</th>\n",
       "      <td>33</td>\n",
       "      <td>male</td>\n",
       "      <td>22.705</td>\n",
       "      <td>0</td>\n",
       "      <td>no</td>\n",
       "      <td>northwest</td>\n",
       "      <td>21984.47061</td>\n",
       "    </tr>\n",
       "    <tr>\n",
       "      <th>4</th>\n",
       "      <td>32</td>\n",
       "      <td>male</td>\n",
       "      <td>28.880</td>\n",
       "      <td>0</td>\n",
       "      <td>no</td>\n",
       "      <td>northwest</td>\n",
       "      <td>3866.85520</td>\n",
       "    </tr>\n",
       "  </tbody>\n",
       "</table>\n",
       "</div>"
      ],
      "text/plain": [
       "   age     sex     bmi  children smoker     region      charges\n",
       "0   19  female  27.900         0    yes  southwest  16884.92400\n",
       "1   18    male  33.770         1     no  southeast   1725.55230\n",
       "2   28    male  33.000         3     no  southeast   4449.46200\n",
       "3   33    male  22.705         0     no  northwest  21984.47061\n",
       "4   32    male  28.880         0     no  northwest   3866.85520"
      ]
     },
     "execution_count": 37,
     "metadata": {},
     "output_type": "execute_result"
    }
   ],
   "source": [
    "df.head()"
   ]
  },
  {
   "cell_type": "markdown",
   "id": "1685e536",
   "metadata": {},
   "source": [
    "### Q1. Do smokers have higher insurance charges than non-smokers?"
   ]
  },
  {
   "cell_type": "markdown",
   "id": "bb789eb8",
   "metadata": {},
   "source": [
    "#### Hypotheses:"
   ]
  },
  {
   "cell_type": "markdown",
   "id": "93a20650",
   "metadata": {},
   "source": [
    "- Null Hypothesis (H0): Smokers and non-smokers have the same average insurance charges.\n",
    "    \n",
    "- Alternative Hypothesis (H1): Smokers have higher average insurance charges than non-smokers."
   ]
  },
  {
   "cell_type": "markdown",
   "id": "1920a7ae",
   "metadata": {},
   "source": [
    "#### Test Selection:"
   ]
  },
  {
   "cell_type": "markdown",
   "id": "198f006b",
   "metadata": {},
   "source": [
    "- I will use a two-sample t-test since we are comparing the means of two independent groups (smokers and non-smokers) \n",
    "\n",
    "with continuous data (insurance charges)."
   ]
  },
  {
   "cell_type": "markdown",
   "id": "13c654c2",
   "metadata": {},
   "source": [
    "#### Assumptions:"
   ]
  },
  {
   "cell_type": "markdown",
   "id": "d57e6900",
   "metadata": {},
   "source": [
    "  - No significant outliers\n",
    "  - Normality\n",
    "  - Equal Variance"
   ]
  },
  {
   "cell_type": "markdown",
   "id": "88da3af9",
   "metadata": {},
   "source": [
    "#### Execution:"
   ]
  },
  {
   "cell_type": "markdown",
   "id": "7fe53031",
   "metadata": {},
   "source": [
    "#### Getting the Group Data"
   ]
  },
  {
   "cell_type": "code",
   "execution_count": 38,
   "id": "7bcce657",
   "metadata": {},
   "outputs": [
    {
     "data": {
      "text/html": [
       "<div>\n",
       "<style scoped>\n",
       "    .dataframe tbody tr th:only-of-type {\n",
       "        vertical-align: middle;\n",
       "    }\n",
       "\n",
       "    .dataframe tbody tr th {\n",
       "        vertical-align: top;\n",
       "    }\n",
       "\n",
       "    .dataframe thead th {\n",
       "        text-align: right;\n",
       "    }\n",
       "</style>\n",
       "<table border=\"1\" class=\"dataframe\">\n",
       "  <thead>\n",
       "    <tr style=\"text-align: right;\">\n",
       "      <th></th>\n",
       "      <th>age</th>\n",
       "      <th>sex</th>\n",
       "      <th>bmi</th>\n",
       "      <th>children</th>\n",
       "      <th>smoker</th>\n",
       "      <th>region</th>\n",
       "      <th>charges</th>\n",
       "      <th>charges_smokers</th>\n",
       "      <th>charges_non_smokers</th>\n",
       "    </tr>\n",
       "  </thead>\n",
       "  <tbody>\n",
       "    <tr>\n",
       "      <th>0</th>\n",
       "      <td>19</td>\n",
       "      <td>female</td>\n",
       "      <td>27.900</td>\n",
       "      <td>0</td>\n",
       "      <td>yes</td>\n",
       "      <td>southwest</td>\n",
       "      <td>16884.92400</td>\n",
       "      <td>16884.9240</td>\n",
       "      <td>NaN</td>\n",
       "    </tr>\n",
       "    <tr>\n",
       "      <th>1</th>\n",
       "      <td>18</td>\n",
       "      <td>male</td>\n",
       "      <td>33.770</td>\n",
       "      <td>1</td>\n",
       "      <td>no</td>\n",
       "      <td>southeast</td>\n",
       "      <td>1725.55230</td>\n",
       "      <td>NaN</td>\n",
       "      <td>1725.55230</td>\n",
       "    </tr>\n",
       "    <tr>\n",
       "      <th>2</th>\n",
       "      <td>28</td>\n",
       "      <td>male</td>\n",
       "      <td>33.000</td>\n",
       "      <td>3</td>\n",
       "      <td>no</td>\n",
       "      <td>southeast</td>\n",
       "      <td>4449.46200</td>\n",
       "      <td>NaN</td>\n",
       "      <td>4449.46200</td>\n",
       "    </tr>\n",
       "    <tr>\n",
       "      <th>3</th>\n",
       "      <td>33</td>\n",
       "      <td>male</td>\n",
       "      <td>22.705</td>\n",
       "      <td>0</td>\n",
       "      <td>no</td>\n",
       "      <td>northwest</td>\n",
       "      <td>21984.47061</td>\n",
       "      <td>NaN</td>\n",
       "      <td>21984.47061</td>\n",
       "    </tr>\n",
       "    <tr>\n",
       "      <th>4</th>\n",
       "      <td>32</td>\n",
       "      <td>male</td>\n",
       "      <td>28.880</td>\n",
       "      <td>0</td>\n",
       "      <td>no</td>\n",
       "      <td>northwest</td>\n",
       "      <td>3866.85520</td>\n",
       "      <td>NaN</td>\n",
       "      <td>3866.85520</td>\n",
       "    </tr>\n",
       "    <tr>\n",
       "      <th>...</th>\n",
       "      <td>...</td>\n",
       "      <td>...</td>\n",
       "      <td>...</td>\n",
       "      <td>...</td>\n",
       "      <td>...</td>\n",
       "      <td>...</td>\n",
       "      <td>...</td>\n",
       "      <td>...</td>\n",
       "      <td>...</td>\n",
       "    </tr>\n",
       "    <tr>\n",
       "      <th>1333</th>\n",
       "      <td>50</td>\n",
       "      <td>male</td>\n",
       "      <td>30.970</td>\n",
       "      <td>3</td>\n",
       "      <td>no</td>\n",
       "      <td>northwest</td>\n",
       "      <td>10600.54830</td>\n",
       "      <td>NaN</td>\n",
       "      <td>10600.54830</td>\n",
       "    </tr>\n",
       "    <tr>\n",
       "      <th>1334</th>\n",
       "      <td>18</td>\n",
       "      <td>female</td>\n",
       "      <td>31.920</td>\n",
       "      <td>0</td>\n",
       "      <td>no</td>\n",
       "      <td>northeast</td>\n",
       "      <td>2205.98080</td>\n",
       "      <td>NaN</td>\n",
       "      <td>2205.98080</td>\n",
       "    </tr>\n",
       "    <tr>\n",
       "      <th>1335</th>\n",
       "      <td>18</td>\n",
       "      <td>female</td>\n",
       "      <td>36.850</td>\n",
       "      <td>0</td>\n",
       "      <td>no</td>\n",
       "      <td>southeast</td>\n",
       "      <td>1629.83350</td>\n",
       "      <td>NaN</td>\n",
       "      <td>1629.83350</td>\n",
       "    </tr>\n",
       "    <tr>\n",
       "      <th>1336</th>\n",
       "      <td>21</td>\n",
       "      <td>female</td>\n",
       "      <td>25.800</td>\n",
       "      <td>0</td>\n",
       "      <td>no</td>\n",
       "      <td>southwest</td>\n",
       "      <td>2007.94500</td>\n",
       "      <td>NaN</td>\n",
       "      <td>2007.94500</td>\n",
       "    </tr>\n",
       "    <tr>\n",
       "      <th>1337</th>\n",
       "      <td>61</td>\n",
       "      <td>female</td>\n",
       "      <td>29.070</td>\n",
       "      <td>0</td>\n",
       "      <td>yes</td>\n",
       "      <td>northwest</td>\n",
       "      <td>29141.36030</td>\n",
       "      <td>29141.3603</td>\n",
       "      <td>NaN</td>\n",
       "    </tr>\n",
       "  </tbody>\n",
       "</table>\n",
       "<p>1338 rows × 9 columns</p>\n",
       "</div>"
      ],
      "text/plain": [
       "      age     sex     bmi  children smoker     region      charges  \\\n",
       "0      19  female  27.900         0    yes  southwest  16884.92400   \n",
       "1      18    male  33.770         1     no  southeast   1725.55230   \n",
       "2      28    male  33.000         3     no  southeast   4449.46200   \n",
       "3      33    male  22.705         0     no  northwest  21984.47061   \n",
       "4      32    male  28.880         0     no  northwest   3866.85520   \n",
       "...   ...     ...     ...       ...    ...        ...          ...   \n",
       "1333   50    male  30.970         3     no  northwest  10600.54830   \n",
       "1334   18  female  31.920         0     no  northeast   2205.98080   \n",
       "1335   18  female  36.850         0     no  southeast   1629.83350   \n",
       "1336   21  female  25.800         0     no  southwest   2007.94500   \n",
       "1337   61  female  29.070         0    yes  northwest  29141.36030   \n",
       "\n",
       "      charges_smokers  charges_non_smokers  \n",
       "0          16884.9240                  NaN  \n",
       "1                 NaN           1725.55230  \n",
       "2                 NaN           4449.46200  \n",
       "3                 NaN          21984.47061  \n",
       "4                 NaN           3866.85520  \n",
       "...               ...                  ...  \n",
       "1333              NaN          10600.54830  \n",
       "1334              NaN           2205.98080  \n",
       "1335              NaN           1629.83350  \n",
       "1336              NaN           2007.94500  \n",
       "1337       29141.3603                  NaN  \n",
       "\n",
       "[1338 rows x 9 columns]"
      ]
     },
     "execution_count": 38,
     "metadata": {},
     "output_type": "execute_result"
    }
   ],
   "source": [
    "# Separate charges for smokers and non-smokers\n",
    "df['charges_smokers'] = df[df['smoker'] == 'yes']['charges']\n",
    "df['charges_non_smokers'] = df[df['smoker'] == 'no']['charges']\n",
    "\n",
    "df"
   ]
  },
  {
   "cell_type": "code",
   "execution_count": 43,
   "id": "4079e4e7",
   "metadata": {},
   "outputs": [
    {
     "name": "stdout",
     "output_type": "stream",
     "text": [
      "There are 274 rows in the 'charges_smokers' group.\n",
      "There are 1064 rows in the 'charges_non_smokers' group.\n"
     ]
    }
   ],
   "source": [
    "# Separate the column of interest based on the groups\n",
    "charges_smokers_df = df[['charges', 'charges_smokers']].dropna()\n",
    "charges_non_smokers_df = df[['charges', 'charges_non_smokers']].dropna()\n",
    "\n",
    "# Calculate the number of rows in each group\n",
    "num_charges_smokers = len(charges_smokers_df)\n",
    "num_charges_non_smokers = len(charges_non_smokers_df)\n",
    "\n",
    "# Print the number of rows in each group\n",
    "print(f\"There are {num_charges_smokers} rows in the 'charges_smokers' group.\")\n",
    "print(f\"There are {num_charges_non_smokers} rows in the 'charges_non_smokers' group.\")\n"
   ]
  },
  {
   "cell_type": "markdown",
   "id": "b25e96a2",
   "metadata": {},
   "source": [
    "#### Visualize Group Means"
   ]
  },
  {
   "cell_type": "code",
   "execution_count": 44,
   "id": "1cd317ca",
   "metadata": {},
   "outputs": [
    {
     "data": {
      "text/html": [
       "<div>\n",
       "<style scoped>\n",
       "    .dataframe tbody tr th:only-of-type {\n",
       "        vertical-align: middle;\n",
       "    }\n",
       "\n",
       "    .dataframe tbody tr th {\n",
       "        vertical-align: top;\n",
       "    }\n",
       "\n",
       "    .dataframe thead th {\n",
       "        text-align: right;\n",
       "    }\n",
       "</style>\n",
       "<table border=\"1\" class=\"dataframe\">\n",
       "  <thead>\n",
       "    <tr style=\"text-align: right;\">\n",
       "      <th></th>\n",
       "      <th>charges</th>\n",
       "      <th>charges_smokers</th>\n",
       "      <th>charges_non_smokers</th>\n",
       "    </tr>\n",
       "  </thead>\n",
       "  <tbody>\n",
       "    <tr>\n",
       "      <th>0</th>\n",
       "      <td>16884.9240</td>\n",
       "      <td>16884.9240</td>\n",
       "      <td>NaN</td>\n",
       "    </tr>\n",
       "    <tr>\n",
       "      <th>11</th>\n",
       "      <td>27808.7251</td>\n",
       "      <td>27808.7251</td>\n",
       "      <td>NaN</td>\n",
       "    </tr>\n",
       "    <tr>\n",
       "      <th>14</th>\n",
       "      <td>39611.7577</td>\n",
       "      <td>39611.7577</td>\n",
       "      <td>NaN</td>\n",
       "    </tr>\n",
       "    <tr>\n",
       "      <th>19</th>\n",
       "      <td>36837.4670</td>\n",
       "      <td>36837.4670</td>\n",
       "      <td>NaN</td>\n",
       "    </tr>\n",
       "    <tr>\n",
       "      <th>23</th>\n",
       "      <td>37701.8768</td>\n",
       "      <td>37701.8768</td>\n",
       "      <td>NaN</td>\n",
       "    </tr>\n",
       "    <tr>\n",
       "      <th>...</th>\n",
       "      <td>...</td>\n",
       "      <td>...</td>\n",
       "      <td>...</td>\n",
       "    </tr>\n",
       "    <tr>\n",
       "      <th>1332</th>\n",
       "      <td>11411.6850</td>\n",
       "      <td>NaN</td>\n",
       "      <td>11411.6850</td>\n",
       "    </tr>\n",
       "    <tr>\n",
       "      <th>1333</th>\n",
       "      <td>10600.5483</td>\n",
       "      <td>NaN</td>\n",
       "      <td>10600.5483</td>\n",
       "    </tr>\n",
       "    <tr>\n",
       "      <th>1334</th>\n",
       "      <td>2205.9808</td>\n",
       "      <td>NaN</td>\n",
       "      <td>2205.9808</td>\n",
       "    </tr>\n",
       "    <tr>\n",
       "      <th>1335</th>\n",
       "      <td>1629.8335</td>\n",
       "      <td>NaN</td>\n",
       "      <td>1629.8335</td>\n",
       "    </tr>\n",
       "    <tr>\n",
       "      <th>1336</th>\n",
       "      <td>2007.9450</td>\n",
       "      <td>NaN</td>\n",
       "      <td>2007.9450</td>\n",
       "    </tr>\n",
       "  </tbody>\n",
       "</table>\n",
       "<p>1338 rows × 3 columns</p>\n",
       "</div>"
      ],
      "text/plain": [
       "         charges  charges_smokers  charges_non_smokers\n",
       "0     16884.9240       16884.9240                  NaN\n",
       "11    27808.7251       27808.7251                  NaN\n",
       "14    39611.7577       39611.7577                  NaN\n",
       "19    36837.4670       36837.4670                  NaN\n",
       "23    37701.8768       37701.8768                  NaN\n",
       "...          ...              ...                  ...\n",
       "1332  11411.6850              NaN           11411.6850\n",
       "1333  10600.5483              NaN           10600.5483\n",
       "1334   2205.9808              NaN            2205.9808\n",
       "1335   1629.8335              NaN            1629.8335\n",
       "1336   2007.9450              NaN            2007.9450\n",
       "\n",
       "[1338 rows x 3 columns]"
      ]
     },
     "execution_count": 44,
     "metadata": {},
     "output_type": "execute_result"
    }
   ],
   "source": [
    "## concatenate the two dataframes for visualziation.\n",
    "plot_df = pd.concat([charges_smokers_df, charges_non_smokers_df], axis=0)\n",
    "plot_df"
   ]
  },
  {
   "cell_type": "code",
   "execution_count": 57,
   "id": "7321b783",
   "metadata": {},
   "outputs": [
    {
     "data": {
      "image/png": "[encoded data removed]",
      "text/plain": [
       "<Figure size 1000x600 with 1 Axes>"
      ]
     },
     "metadata": {},
     "output_type": "display_data"
    }
   ],
   "source": [
    "# Create a bar chart\n",
    "plt.figure(figsize=(10, 6))  # Adjust the figure size as needed\n",
    "plt.bar(['Smokers', 'Non-Smokers'], [plot_df['charges_smokers'].mean(), plot_df['charges_non_smokers'].mean()])\n",
    "plt.title('Average Charges for Smokers vs. Non-Smokers')\n",
    "plt.xlabel('Groups')\n",
    "plt.ylabel('Average Charges')\n",
    "plt.show()"
   ]
  },
  {
   "cell_type": "code",
   "execution_count": 46,
   "id": "8eb9a98a",
   "metadata": {},
   "outputs": [
    {
     "data": {
      "text/plain": [
       "0     16884.9240\n",
       "11    27808.7251\n",
       "14    39611.7577\n",
       "19    36837.4670\n",
       "23    37701.8768\n",
       "Name: charges, dtype: float64"
      ]
     },
     "metadata": {},
     "output_type": "display_data"
    },
    {
     "data": {
      "text/plain": [
       "1     1725.55230\n",
       "2     4449.46200\n",
       "3    21984.47061\n",
       "4     3866.85520\n",
       "5     3756.62160\n",
       "Name: charges, dtype: float64"
      ]
     },
     "metadata": {},
     "output_type": "display_data"
    }
   ],
   "source": [
    "## now that we have visualized the groups, we can save a final smokers_group and non_smokers_group\n",
    "# that are a pandas Series. This will make the rest of our workflow simpler than if \n",
    "# we still had a dataframe\n",
    "\n",
    "smokers_group = charges_smokers_df['charges']\n",
    "non_smokers_group = charges_non_smokers_df['charges']\n",
    "display(smokers_group.head(), non_smokers_group.head())"
   ]
  },
  {
   "cell_type": "markdown",
   "id": "162f3f9f",
   "metadata": {},
   "source": [
    "#### Checking Assumptions of 2-Sample T-test"
   ]
  },
  {
   "cell_type": "markdown",
   "id": "7215f448",
   "metadata": {},
   "source": [
    "#### Checking for Outliers"
   ]
  },
  {
   "cell_type": "markdown",
   "id": "64d2cbd4",
   "metadata": {},
   "source": [
    " - Check each group SEPARATELY!"
   ]
  },
  {
   "cell_type": "code",
   "execution_count": 47,
   "id": "128f8a97",
   "metadata": {},
   "outputs": [
    {
     "name": "stdout",
     "output_type": "stream",
     "text": [
      "There are 0 outliers in the smokers group out of 274)\n"
     ]
    }
   ],
   "source": [
    "## Checking for abs vlaue of z-scores that are > 3\n",
    "is_outlier_smokers = np.abs(stats.zscore(smokers_group)) > 3\n",
    "print(f\"There are {is_outlier_smokers.sum()} outliers in the smokers group out of {len(smokers_group)})\")"
   ]
  },
  {
   "cell_type": "markdown",
   "id": "60fe680c",
   "metadata": {},
   "source": [
    " - there is '0' outliers for smokers group so no need to remove ouliers"
   ]
  },
  {
   "cell_type": "code",
   "execution_count": 48,
   "id": "be22ed7c",
   "metadata": {},
   "outputs": [
    {
     "name": "stdout",
     "output_type": "stream",
     "text": [
      "There are 24 outliers in the non smokers group of out of 1064.\n"
     ]
    }
   ],
   "source": [
    "## Checking for abs vlaue of z-scores that are > 3\n",
    "is_outlier_non_smokers = np.abs(stats.zscore(non_smokers_group)) > 3\n",
    "print(f\"There are {is_outlier_non_smokers.sum()} outliers in the non smokers group of out of {len(non_smokers_group)}.\")"
   ]
  },
  {
   "cell_type": "code",
   "execution_count": 49,
   "id": "a7232676",
   "metadata": {},
   "outputs": [
    {
     "data": {
      "text/plain": [
       "1        1725.55230\n",
       "2        4449.46200\n",
       "3       21984.47061\n",
       "4        3866.85520\n",
       "5        3756.62160\n",
       "           ...     \n",
       "1332    11411.68500\n",
       "1333    10600.54830\n",
       "1334     2205.98080\n",
       "1335     1629.83350\n",
       "1336     2007.94500\n",
       "Name: charges, Length: 1040, dtype: float64"
      ]
     },
     "execution_count": 49,
     "metadata": {},
     "output_type": "execute_result"
    }
   ],
   "source": [
    "## removing outliers from non_smokers_group\n",
    "non_smokers_group = non_smokers_group.loc[~is_outlier_non_smokers]\n",
    "non_smokers_group"
   ]
  },
  {
   "cell_type": "markdown",
   "id": "cf988fbc",
   "metadata": {},
   "source": [
    "#### Checking for Normality"
   ]
  },
  {
   "cell_type": "markdown",
   "id": "79eb38d8",
   "metadata": {},
   "source": [
    " - According to the workflow on the LP, since both groups have n > 15, we can safely ignore the assumption of normality."
   ]
  },
  {
   "cell_type": "markdown",
   "id": "8e97a573",
   "metadata": {},
   "source": [
    "#### Checking for Equal Variance"
   ]
  },
  {
   "cell_type": "code",
   "execution_count": 51,
   "id": "4d1313e3",
   "metadata": {},
   "outputs": [
    {
     "name": "stdout",
     "output_type": "stream",
     "text": [
      "LeveneResult(statistic=520.7468821724297, pvalue=2.4247238784347824e-97)\n",
      "True\n"
     ]
    }
   ],
   "source": [
    "result = stats.levene(smokers_group, smokers_group)\n",
    "print(result)\n",
    "print(result.pvalue<.05)"
   ]
  },
  {
   "cell_type": "markdown",
   "id": "d02ead09",
   "metadata": {},
   "source": [
    "- Since the p-value (2.42e-97) is significantly less than the chosen significance level (e.g., 0.05), \n",
    " we reject the null hypothesis.\n",
    " \n",
    "- Since we did NOT meet the assumption of equal variance, we will run our stats.ttest_ind using equal_var=False. This will run a Welch's T-Test, which is designed to account for unequal variance."
   ]
  },
  {
   "cell_type": "markdown",
   "id": "f1457bcc",
   "metadata": {},
   "source": [
    "### Statistical Test"
   ]
  },
  {
   "cell_type": "code",
   "execution_count": 53,
   "id": "88e6eb25",
   "metadata": {},
   "outputs": [
    {
     "name": "stdout",
     "output_type": "stream",
     "text": [
      "Ttest_indResult(statistic=51.2078044173717, pvalue=3.68768124e-315)\n"
     ]
    },
    {
     "data": {
      "text/plain": [
       "True"
      ]
     },
     "execution_count": 53,
     "metadata": {},
     "output_type": "execute_result"
    }
   ],
   "source": [
    "result = stats.ttest_ind(smokers_group, non_smokers_group)\n",
    "print(result)\n",
    "result.pvalue < .05"
   ]
  },
  {
   "cell_type": "markdown",
   "id": "ec600af5",
   "metadata": {},
   "source": [
    "- The p-value for the t-test is extremely close to zero, which is significantly less than the chosen significance level (e.g., 0.05). Since the p-value is much less than 0.05, we reject the null hypothesis.\n",
    "- In order to know if they are funded significantly MORE or LESS, we look at the actual means of our final groups."
   ]
  },
  {
   "cell_type": "code",
   "execution_count": 54,
   "id": "d62dead9",
   "metadata": {},
   "outputs": [
    {
     "name": "stdout",
     "output_type": "stream",
     "text": [
      "The average charges for smokers groups was 32050.23\n",
      "The average charges for non smokers groups was 7939.86\n"
     ]
    }
   ],
   "source": [
    "print(f\"The average charges for smokers groups was {smokers_group.mean():.2f}\")\n",
    "print(f\"The average charges for non smokers groups was {non_smokers_group.mean():.2f}\")"
   ]
  },
  {
   "cell_type": "markdown",
   "id": "562b304a",
   "metadata": {},
   "source": [
    " - smokers groups are charges at significantly higher amounts than non smokers groups."
   ]
  },
  {
   "cell_type": "markdown",
   "id": "f020eba5",
   "metadata": {},
   "source": [
    "### Q2. Are men more likely to smoke than women?"
   ]
  },
  {
   "cell_type": "markdown",
   "id": "f5d8d189",
   "metadata": {},
   "source": [
    "#### Hypotheses:"
   ]
  },
  {
   "cell_type": "markdown",
   "id": "ca99221b",
   "metadata": {},
   "source": [
    "- Null Hypothesis (H0): The proportion of men who smoke is the same as the proportion of women who smoke.\n",
    "- Alternative Hypothesis (H1): The proportion of men who smoke is different from the proportion of women who smoke."
   ]
  },
  {
   "cell_type": "markdown",
   "id": "eeb63a74",
   "metadata": {},
   "source": [
    "#### Test Selection:"
   ]
  },
  {
   "cell_type": "markdown",
   "id": "94eb6eb2",
   "metadata": {},
   "source": [
    "- We will use a chi-squared test of independence since we are comparing two categorical variables (gender and smoking status) \n",
    "to determine if they are independent or associated."
   ]
  },
  {
   "cell_type": "markdown",
   "id": "2ad7af21",
   "metadata": {},
   "source": [
    "#### Assumptions:"
   ]
  },
  {
   "cell_type": "markdown",
   "id": "e0ca030c",
   "metadata": {},
   "source": [
    "- The data is categorical, and observations are independent."
   ]
  },
  {
   "cell_type": "markdown",
   "id": "e39379c4",
   "metadata": {},
   "source": [
    "#### Execution:"
   ]
  },
  {
   "cell_type": "markdown",
   "id": "ff77090e",
   "metadata": {},
   "source": [
    "- Let's perform the chi-squared test"
   ]
  },
  {
   "cell_type": "code",
   "execution_count": 7,
   "id": "9146de51",
   "metadata": {},
   "outputs": [
    {
     "name": "stdout",
     "output_type": "stream",
     "text": [
      "Chi-squared statistic: 7.39291081459996\n",
      "P-value: 0.006548143503580696\n"
     ]
    }
   ],
   "source": [
    "# Create a contingency table\n",
    "contingency_table = pd.crosstab(df['sex'], df['smoker'])\n",
    "\n",
    "# Perform the chi-squared test\n",
    "chi2, p_value, _, _ = chi2_contingency(contingency_table)\n",
    "\n",
    "# Print the results\n",
    "print(f'Chi-squared statistic: {chi2}')\n",
    "print(f'P-value: {p_value}')\n"
   ]
  },
  {
   "cell_type": "markdown",
   "id": "0e6dbc14",
   "metadata": {},
   "source": [
    "#### Interpretation:"
   ]
  },
  {
   "cell_type": "markdown",
   "id": "8de45c1e",
   "metadata": {},
   "source": [
    "- Since the p-value (0.0065) is less than the significance level (commonly set at 0.05), we reject the null hypothesis.\n",
    "- This indicates that there is a statistically significant association between gender and smoking status."
   ]
  },
  {
   "cell_type": "markdown",
   "id": "8ca4803c",
   "metadata": {},
   "source": [
    "#### Supporting Visualization:"
   ]
  },
  {
   "cell_type": "code",
   "execution_count": 8,
   "id": "20692055",
   "metadata": {},
   "outputs": [
    {
     "data": {
      "image/png": "[encoded data removed]",
      "text/plain": [
       "<Figure size 800x600 with 1 Axes>"
      ]
     },
     "metadata": {},
     "output_type": "display_data"
    }
   ],
   "source": [
    "# Create a stacked bar chart\n",
    "plt.figure(figsize=(8, 6))\n",
    "sns.countplot(data=df, x='sex', hue='smoker')\n",
    "plt.title('Smoking Status by Gender')\n",
    "plt.xlabel('Gender')\n",
    "plt.ylabel('Count')\n",
    "plt.legend(title='', loc='upper right', labels=['Non-Smoker', 'Smoker'])\n",
    "plt.show()"
   ]
  },
  {
   "cell_type": "markdown",
   "id": "7b77a4bf",
   "metadata": {},
   "source": [
    "#### Conclusion:"
   ]
  },
  {
   "cell_type": "markdown",
   "id": "e65579c7",
   "metadata": {},
   "source": [
    "In the context of this specific analysis, \n",
    "it suggests that the proportion of men who smoke is different from the proportion of women who smoke. \n",
    "Therefore, based on the data, it appears that there is a difference in smoking habits between men and women.\n"
   ]
  },
  {
   "cell_type": "markdown",
   "id": "89076b29",
   "metadata": {},
   "source": [
    "### Q3. Do different regions have different charges, on average?"
   ]
  },
  {
   "cell_type": "markdown",
   "id": "342200b0",
   "metadata": {},
   "source": [
    "#### Test Selection:"
   ]
  },
  {
   "cell_type": "markdown",
   "id": "9c10a2be",
   "metadata": {},
   "source": [
    "- We used an analysis of variance levene test to compare the means of multiple groups (regions) to determine if there is a \n",
    "significant difference in their average charges."
   ]
  },
  {
   "cell_type": "markdown",
   "id": "56a74a8a",
   "metadata": {},
   "source": [
    "#### Assumptions"
   ]
  },
  {
   "cell_type": "markdown",
   "id": "d4bd79fe",
   "metadata": {},
   "source": [
    "- Formulate Hypotheses: \n",
    "                        \n",
    "                        - Null Hypothesis (H0): The variances of the groups are equal (homoscedastic).\n",
    "                        - Alternative Hypothesis (H1): At least one group has a different variance (heteroscedastic).\n",
    "- Perform Levene's Test: \n",
    "                         \n",
    "                         - Calculate the Levene's test statistic.\n",
    "                         - Calculate the associated p-value.\n",
    "- Evaluate Results: \n",
    "                     \n",
    "                     - If the p-value is greater than the chosen significance level (e.g., 0.05), you fail to reject the null hypothesis, indicating that the assumption of homogeneity of variances is met.\n",
    "                     - If the p-value is less than the significance level, you reject the null hypothesis, indicating a violation of the assumption."
   ]
  },
  {
   "cell_type": "markdown",
   "id": "4bc03792",
   "metadata": {},
   "source": [
    "#### Formulate Hypotheses:"
   ]
  },
  {
   "cell_type": "markdown",
   "id": "f1e1e6e9",
   "metadata": {},
   "source": [
    "H0 (Null Hypothesis): \n",
    "     The assumption is that the variances of insurance charges in each region (Southwest, Southeast, Northwest, Northeast) are approximately equal, indicating homogeneity of variances.\n",
    "\n",
    "H1 (Alternative Hypothesis): \n",
    "     The alternative hypothesis suggests that at least one region has a different variance in insurance charges compared to the others, indicating heteroscedasticity."
   ]
  },
  {
   "cell_type": "markdown",
   "id": "ac068b1e",
   "metadata": {},
   "source": [
    "#### Perform Levene's Test::"
   ]
  },
  {
   "cell_type": "code",
   "execution_count": 33,
   "id": "c0d6d453",
   "metadata": {},
   "outputs": [
    {
     "name": "stdout",
     "output_type": "stream",
     "text": [
      "Levene's Test Statistic: 5.559966758410606\n",
      "Levene's Test P-value: 0.0008610590250786703\n"
     ]
    }
   ],
   "source": [
    "from scipy.stats import levene\n",
    "\n",
    "# Perform Levene's test\n",
    "result_levene = levene(\n",
    "    df[df['region'] == 'southwest']['charges'],\n",
    "    df[df['region'] == 'southeast']['charges'],\n",
    "    df[df['region'] == 'northwest']['charges'],\n",
    "    df[df['region'] == 'northeast']['charges']\n",
    ")\n",
    "\n",
    "# Extract Levene's test statistic and p-value\n",
    "levene_statistic = result_levene.statistic\n",
    "levene_p_value = result_levene.pvalue\n",
    "\n",
    "# Print the results of Levene's test\n",
    "print(\"Levene's Test Statistic:\", levene_statistic)\n",
    "print(\"Levene's Test P-value:\", levene_p_value)\n"
   ]
  },
  {
   "cell_type": "markdown",
   "id": "9b4e273a",
   "metadata": {},
   "source": [
    "#### Evaluate Results:"
   ]
  },
  {
   "cell_type": "markdown",
   "id": "c3da4942",
   "metadata": {},
   "source": [
    "Since the Levene's test p-value is less than the chosen significance level (e.g., 0.05), this indicates that the assumption \n",
    "of homogeneity of variances is violated. \n",
    "In other words, the variances within at least one of the groups (regions) are \n",
    "significantly different from the others.\n",
    "\n",
    "Given above assumption, it is appropriate to use an alternative non-parametric test, such as the Kruskal-Wallis \n",
    "test, to compare charges among different regions. \n",
    "\n",
    "The Kruskal-Wallis test does not rely on the assumption of equal variances."
   ]
  },
  {
   "cell_type": "markdown",
   "id": "98e49712",
   "metadata": {},
   "source": [
    "#### Kruskal-Wallis test"
   ]
  },
  {
   "cell_type": "code",
   "execution_count": 34,
   "id": "310b0b20",
   "metadata": {},
   "outputs": [
    {
     "name": "stdout",
     "output_type": "stream",
     "text": [
      "Kruskal-Wallis Test Statistic: 4.734181215658743\n",
      "Kruskal-Wallis Test P-value: 0.19232908072121002\n"
     ]
    }
   ],
   "source": [
    "from scipy.stats import kruskal\n",
    "\n",
    "# Perform Kruskal-Wallis test\n",
    "result_kruskal = kruskal(\n",
    "    df[df['region'] == 'southwest']['charges'],\n",
    "    df[df['region'] == 'southeast']['charges'],\n",
    "    df[df['region'] == 'northwest']['charges'],\n",
    "    df[df['region'] == 'northeast']['charges']\n",
    ")\n",
    "\n",
    "# Extract Kruskal-Wallis test statistic and p-value\n",
    "kruskal_statistic = result_kruskal.statistic\n",
    "kruskal_p_value = result_kruskal.pvalue\n",
    "\n",
    "# Print the results of the Kruskal-Wallis test\n",
    "print(\"Kruskal-Wallis Test Statistic:\", kruskal_statistic)\n",
    "print(\"Kruskal-Wallis Test P-value:\", kruskal_p_value)\n"
   ]
  },
  {
   "cell_type": "markdown",
   "id": "50ba4ee9",
   "metadata": {},
   "source": [
    "#### Interpretation:"
   ]
  },
  {
   "cell_type": "markdown",
   "id": "f95ae656",
   "metadata": {},
   "source": [
    "In the Kruskal-Wallis test, the null hypothesis is that there is no significant difference in average charges among \n",
    "different regions, and the alternative hypothesis is that there is a significant difference.\n",
    "\n",
    "The test statistic is 4.7342.\n",
    "The associated p-value is 0.1923.\n",
    "\n",
    "Since the p-value (0.1923) is greater than the chosen significance level (e.g., 0.05), we fail to reject the null hypothesis. This means that there is insufficient evidence to conclude that there is a significant difference in average charges among different regions.\n",
    "\n",
    "In summary, based on the Kruskal-Wallis test, there is no significant difference in average charges among the regions. \n",
    "\n",
    "This finding suggests that, on average, the charges are similar across different regions."
   ]
  },
  {
   "cell_type": "markdown",
   "id": "f1abad1f",
   "metadata": {},
   "source": [
    "#### Supporting Visualization"
   ]
  },
  {
   "cell_type": "code",
   "execution_count": 11,
   "id": "f18d4065",
   "metadata": {},
   "outputs": [
    {
     "data": {
      "image/png": "[encoded data removed]",
      "text/plain": [
       "<Figure size 1000x600 with 1 Axes>"
      ]
     },
     "metadata": {},
     "output_type": "display_data"
    }
   ],
   "source": [
    "# Create a box plot\n",
    "plt.figure(figsize=(10, 6))\n",
    "sns.boxplot(x='region', y='charges', data=df)\n",
    "plt.title('Distribution of Charges by Region')\n",
    "plt.show()\n"
   ]
  },
  {
   "cell_type": "markdown",
   "id": "2ae4f8fc",
   "metadata": {},
   "source": [
    "#### Conclusion:"
   ]
  },
  {
   "cell_type": "markdown",
   "id": "8aac34ac",
   "metadata": {},
   "source": [
    "- There is a significant difference in average insurance charges among different regions."
   ]
  },
  {
   "cell_type": "code",
   "execution_count": null,
   "id": "046b30c3",
   "metadata": {},
   "outputs": [],
   "source": []
  }
 ],
 "metadata": {
  "kernelspec": {
   "display_name": "Python 3 (ipykernel)",
   "language": "python",
   "name": "python3"
  },
  "language_info": {
   "codemirror_mode": {
    "name": "ipython",
    "version": 3
   },
   "file_extension": ".py",
   "mimetype": "text/x-python",
   "name": "python",
   "nbconvert_exporter": "python",
   "pygments_lexer": "ipython3",
   "version": "3.10.10"
  }
 },
 "nbformat": 4,
 "nbformat_minor": 5
}
